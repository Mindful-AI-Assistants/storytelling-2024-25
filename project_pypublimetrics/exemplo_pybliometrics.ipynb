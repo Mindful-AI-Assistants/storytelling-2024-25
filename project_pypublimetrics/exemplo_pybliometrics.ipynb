{
 "cells": [
  {
   "cell_type": "code",
   "execution_count": 1,
   "metadata": {},
   "outputs": [
    {
     "name": "stdout",
     "output_type": "stream",
     "text": [
      "Requirement already satisfied: pybliometrics in /Users/fabicampanari/myenv/lib/python3.12/site-packages (4.1)\n",
      "Requirement already satisfied: requests in /Users/fabicampanari/myenv/lib/python3.12/site-packages (from pybliometrics) (2.32.3)\n",
      "Requirement already satisfied: tqdm in /Users/fabicampanari/myenv/lib/python3.12/site-packages (from pybliometrics) (4.66.5)\n",
      "Requirement already satisfied: urllib3 in /Users/fabicampanari/myenv/lib/python3.12/site-packages (from pybliometrics) (2.2.2)\n",
      "Requirement already satisfied: charset-normalizer<4,>=2 in /Users/fabicampanari/myenv/lib/python3.12/site-packages (from requests->pybliometrics) (3.3.2)\n",
      "Requirement already satisfied: idna<4,>=2.5 in /Users/fabicampanari/myenv/lib/python3.12/site-packages (from requests->pybliometrics) (3.8)\n",
      "Requirement already satisfied: certifi>=2017.4.17 in /Users/fabicampanari/myenv/lib/python3.12/site-packages (from requests->pybliometrics) (2024.8.30)\n",
      "Note: you may need to restart the kernel to use updated packages.\n"
     ]
    }
   ],
   "source": [
    " %pip install  pybliometrics"
   ]
  },
  {
   "cell_type": "code",
   "execution_count": 4,
   "metadata": {},
   "outputs": [],
   "source": [
    "import pybliometrics"
   ]
  },
  {
   "cell_type": "code",
   "execution_count": 1,
   "metadata": {},
   "outputs": [],
   "source": [
    "from pybliometrics.scopus import ScopusSearch"
   ]
  }
 ],
 "metadata": {
  "kernelspec": {
   "display_name": "myenv",
   "language": "python",
   "name": "python3"
  },
  "language_info": {
   "codemirror_mode": {
    "name": "ipython",
    "version": 3
   },
   "file_extension": ".py",
   "mimetype": "text/x-python",
   "name": "python",
   "nbconvert_exporter": "python",
   "pygments_lexer": "ipython3",
   "version": "3.12.6"
  }
 },
 "nbformat": 4,
 "nbformat_minor": 2
}
