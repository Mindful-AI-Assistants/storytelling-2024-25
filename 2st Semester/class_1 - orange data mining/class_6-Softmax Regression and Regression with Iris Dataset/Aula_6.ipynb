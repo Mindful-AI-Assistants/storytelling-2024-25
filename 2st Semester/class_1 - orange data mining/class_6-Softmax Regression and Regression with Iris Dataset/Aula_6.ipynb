{
  "nbformat": 4,
  "nbformat_minor": 0,
  "metadata": {
    "colab": {
      "provenance": []
    },
    "kernelspec": {
      "name": "python3",
      "display_name": "Python 3"
    },
    "language_info": {
      "name": "python"
    }
  },
  "cells": [
    {
      "cell_type": "markdown",
      "source": [
        "## Expandindo para $k$ classes\n",
        "\n",
        "Podemos usar Regressão Logística para mais de uma duas classes ($k > 2$)"
      ],
      "metadata": {
        "id": "dSWJSjU0XXOg"
      }
    },
    {
      "cell_type": "markdown",
      "source": [
        "### Função Softmax\n",
        "\n",
        "Dado um vetor $\\mathbf{x}$, a função Softmax computa um score $s_k(\\mathbf{x})$ para cada classe $k$, então estima a probabilidade de cada classe.\n",
        "\n",
        "$$\\hat{p}_k = \\sigma(\\mathbf{s}(\\mathbf{x}))_k = \\frac{e^{s_k(\\mathbf{x})}}{\\sum_{j=1}^K e^{s_j(\\mathbf{x})}}$$\n",
        "\n",
        "* $K$ - número de classes\n",
        "* $\\mathbf{s}(\\mathbf{x})$ - vetor contendo todos os scores de cada classe de uma observação $x$\n",
        "* $\\sigma(\\mathbf{s}(\\mathbf{x}))_k$ - a probabilidade estimada ($\\hat{p}_k$) que a obsevação $x$ pertence a classe $k$, dado os scores de cada classe para $x$"
      ],
      "metadata": {
        "id": "0z1qBs2LYNtq"
      }
    },
    {
      "cell_type": "code",
      "source": [
        "# Exemplo para 3 classes\n",
        "# p_hat = [0.25, 0.50, 0.25]\n",
        "# y_hat = 2 # indice 2"
      ],
      "metadata": {
        "id": "_dkajoHxXXm8"
      },
      "execution_count": null,
      "outputs": []
    },
    {
      "cell_type": "markdown",
      "source": [
        "### Regressão Softmax\n",
        "\n",
        "Que nem a Regressão Logística, a Regressão Softmax prevê a classe com maior probabilidade estimada (que é simplesmente a classe com o maior score)\n",
        "\n",
        "$$\\hat{y} = \\max_k \\sigma(\\mathbf{s}(\\mathbf{x}))_k = \\max_k s_k(\\mathbf{x})$$"
      ],
      "metadata": {
        "id": "vj5GnrbfY651"
      }
    },
    {
      "cell_type": "markdown",
      "source": [
        "### Regressão Softmax (Regressão Logística Multinomial)\n",
        "Usar a função do Scikit-Learn [`sklearn.linear_model.Logistic Regression()`](https://scikit-learn.org/stable/modules/generated/sklearn.linear_model.LogisticRegression.html)\n",
        "\n",
        "Não possui opções de controle da taxa de aprendizagem do Método do Gradiente Descendente\n",
        "\n",
        "#### Argumentos:\n",
        "* `multi_class` - `str`\n",
        "    * `'ovr'` - Binário ($k=2$)\n",
        "    * `'multinomial'` - Multiclasses ($k > 2$)\n",
        "    * `'auto'` - se baseia nas dimensões da `array` `y` que é passada no `.fit()`\n",
        "* `max_iter` - `int` - Número máximo de iterações do *Gradient Descent*\n",
        "* `tol` - Tolerância - Critério de parada de treino\n",
        "* `random_state` - `int` - seed do gerador de número randômicos (replicabilidade)\n",
        "\n",
        "#### Retorna:\n",
        "* Objeto `estimator` do Scikit-Learn\n",
        "\n",
        "#### O que muda da Regressão Logística?\n",
        "Agora o meu $y$ é uma matriz (2-D) e não um vetor (1-D)"
      ],
      "metadata": {
        "id": "ysSq-NCjZNSy"
      }
    },
    {
      "cell_type": "markdown",
      "source": [
        "### Métrica de Desempenho de uma Regressão Softmax\n",
        "\n",
        "**Cross Entropy**: Estender a Log Loss para mais que duas classes\n",
        "\n",
        "$$Cross~Entropy = -\\frac{1}{m} \\sum_{i=1}^{m} \\sum_{k=1}^K y_k^{(i)} \\log (\\hat{p}_k^{(i)})$$\n",
        "\n",
        "* $y_k^{(i)}$ é a probabilidade alvo que a observação $i$ pertence à classe $k$. De maneira geral, ou é $1$ ou $0$, dependendo de qual classe $i$ pertence."
      ],
      "metadata": {
        "id": "RytN-3uoaVQl"
      }
    },
    {
      "cell_type": "markdown",
      "source": [
        "## Atividade - Regressão com o dataset [Iris](https://scikit-learn.org/stable/datasets/index.html#iris-dataset)\n",
        "\n",
        "Edgar Anderson coletou os dados para quantificar a variação morfológica das flores de íris de três espécies relacionadas.\n",
        "\n",
        "O conjunto de dados consiste em 50 amostras de cada uma das três espécies de Iris (Setosa, Virginica e Versicolor). Quatro características foram medidas em cada amostra (cm):\n",
        "\n",
        "* $N = 150$\n",
        "* Atributos: 4\n",
        "    * `sepal length (cm)` - Cumprimento da Sépala\n",
        "    * `sepal width (cm)` - Largura da Sépala\n",
        "    * `petal length (cm)` - Cumprimento da Pétala\n",
        "    * `petal width (cm)` - Largua da Sépala\n",
        "* Variável dependente: Tipo de espécie de Iris\n",
        "    * `0` - Setosa\n",
        "    * `1` - Virginica\n",
        "    * `2` - Versicolor\n",
        "\n",
        "* Achar a acurácia do modelo nos dados de teste e os respectivos coeficientes dos atributos ($\\theta_i$) e viés/constante ($\\theta_0$)\n",
        "\n",
        ">Obs: usar `test_size = 0.25` e `random_state = 123`\n",
        "\n",
        "<img src=\"https://github.com/storopoli/ciencia-de-dados/blob/main/notebooks/images/iris-species.png?raw=1\" alt=\"iris-sepals-petals\" style=\"width: 600px;\"/>"
      ],
      "metadata": {
        "id": "KSC5DyyYbchN"
      }
    },
    {
      "cell_type": "code",
      "source": [
        "from sklearn.datasets import load_iris\n",
        "\n",
        "iris = load_iris()\n",
        "X = iris['data']\n",
        "y = iris['target']"
      ],
      "metadata": {
        "id": "BdZqGZpWXXkK"
      },
      "execution_count": 1,
      "outputs": []
    },
    {
      "cell_type": "code",
      "execution_count": 4,
      "metadata": {
        "colab": {
          "base_uri": "https://localhost:8080/"
        },
        "id": "DvS5mVi4XJLZ",
        "outputId": "52b2c942-1d8c-417d-96e0-3589736ab8e5"
      },
      "outputs": [
        {
          "output_type": "stream",
          "name": "stdout",
          "text": [
            "Nomes dos Atributos:  ['sepal length (cm)', 'sepal width (cm)', 'petal length (cm)', 'petal width (cm)'] \n",
            "\n",
            "Tamanho de X:  (150, 4) \n",
            "\n",
            "Tamanho de y:  (150,) \n",
            "\n"
          ]
        }
      ],
      "source": [
        "print('Nomes dos Atributos: ', iris['feature_names'], '\\n')\n",
        "print('Tamanho de X: ', X.shape, '\\n')\n",
        "print('Tamanho de y: ', y.shape, '\\n')"
      ]
    },
    {
      "cell_type": "code",
      "source": [
        "from sklearn.model_selection import train_test_split\n",
        "\n",
        "X_train, X_test, y_train, y_test = train_test_split(X, y, test_size=0.25, random_state=123)"
      ],
      "metadata": {
        "id": "pIeyEl50dd3J"
      },
      "execution_count": 8,
      "outputs": []
    },
    {
      "cell_type": "code",
      "source": [
        "y"
      ],
      "metadata": {
        "colab": {
          "base_uri": "https://localhost:8080/"
        },
        "id": "A7JmEN3Ac2Jj",
        "outputId": "281676e4-cab9-40c2-e244-2d9a598b7141"
      },
      "execution_count": 7,
      "outputs": [
        {
          "output_type": "execute_result",
          "data": {
            "text/plain": [
              "array([0, 0, 0, 0, 0, 0, 0, 0, 0, 0, 0, 0, 0, 0, 0, 0, 0, 0, 0, 0, 0, 0,\n",
              "       0, 0, 0, 0, 0, 0, 0, 0, 0, 0, 0, 0, 0, 0, 0, 0, 0, 0, 0, 0, 0, 0,\n",
              "       0, 0, 0, 0, 0, 0, 1, 1, 1, 1, 1, 1, 1, 1, 1, 1, 1, 1, 1, 1, 1, 1,\n",
              "       1, 1, 1, 1, 1, 1, 1, 1, 1, 1, 1, 1, 1, 1, 1, 1, 1, 1, 1, 1, 1, 1,\n",
              "       1, 1, 1, 1, 1, 1, 1, 1, 1, 1, 1, 1, 2, 2, 2, 2, 2, 2, 2, 2, 2, 2,\n",
              "       2, 2, 2, 2, 2, 2, 2, 2, 2, 2, 2, 2, 2, 2, 2, 2, 2, 2, 2, 2, 2, 2,\n",
              "       2, 2, 2, 2, 2, 2, 2, 2, 2, 2, 2, 2, 2, 2, 2, 2, 2, 2])"
            ]
          },
          "metadata": {},
          "execution_count": 7
        }
      ]
    },
    {
      "cell_type": "code",
      "source": [
        "from sklearn.linear_model import LogisticRegression\n",
        "\n",
        "clf = LogisticRegression(max_iter=1000)\n",
        "clf.fit(X_train, y_train)\n",
        "y_pred = clf.predict(X_test)"
      ],
      "metadata": {
        "id": "91EHRddGdjlk"
      },
      "execution_count": 9,
      "outputs": []
    },
    {
      "cell_type": "code",
      "source": [
        "y_test"
      ],
      "metadata": {
        "colab": {
          "base_uri": "https://localhost:8080/"
        },
        "id": "tHzA74J9duaI",
        "outputId": "429e0699-0624-4185-9f3f-b33acc524b52"
      },
      "execution_count": 12,
      "outputs": [
        {
          "output_type": "execute_result",
          "data": {
            "text/plain": [
              "array([1, 2, 2, 1, 0, 2, 1, 0, 0, 1, 2, 0, 1, 2, 2, 2, 0, 0, 1, 0, 0, 2,\n",
              "       0, 2, 0, 0, 0, 2, 2, 0, 2, 2, 0, 0, 1, 1, 2, 0])"
            ]
          },
          "metadata": {},
          "execution_count": 12
        }
      ]
    },
    {
      "cell_type": "code",
      "source": [
        "y_pred"
      ],
      "metadata": {
        "colab": {
          "base_uri": "https://localhost:8080/"
        },
        "id": "4yvpCBqLdnXT",
        "outputId": "0b282765-9452-4298-879e-2ee903bc0b0f"
      },
      "execution_count": 10,
      "outputs": [
        {
          "output_type": "execute_result",
          "data": {
            "text/plain": [
              "array([1, 2, 2, 1, 0, 2, 1, 0, 0, 1, 2, 0, 1, 2, 2, 2, 0, 0, 1, 0, 0, 1,\n",
              "       0, 2, 0, 0, 0, 2, 2, 0, 2, 2, 0, 0, 1, 1, 2, 0])"
            ]
          },
          "metadata": {},
          "execution_count": 10
        }
      ]
    },
    {
      "cell_type": "code",
      "source": [
        "from sklearn.metrics import accuracy_score, classification_report\n",
        "\n",
        "print(\"Acurácia:\", accuracy_score(y_test, y_pred))"
      ],
      "metadata": {
        "colab": {
          "base_uri": "https://localhost:8080/"
        },
        "id": "bFX-joHPd0mM",
        "outputId": "92731f66-60dc-4056-8547-4e5b4c456484"
      },
      "execution_count": 13,
      "outputs": [
        {
          "output_type": "stream",
          "name": "stdout",
          "text": [
            "Acurácia: 0.9736842105263158\n"
          ]
        }
      ]
    },
    {
      "cell_type": "code",
      "source": [
        "print(classification_report(y_test, y_pred))"
      ],
      "metadata": {
        "colab": {
          "base_uri": "https://localhost:8080/"
        },
        "id": "lxcjkuGXd8Fv",
        "outputId": "534a48c7-c4c0-43cc-99b1-8edfe4c837ca"
      },
      "execution_count": 14,
      "outputs": [
        {
          "output_type": "stream",
          "name": "stdout",
          "text": [
            "              precision    recall  f1-score   support\n",
            "\n",
            "           0       1.00      1.00      1.00        16\n",
            "           1       0.89      1.00      0.94         8\n",
            "           2       1.00      0.93      0.96        14\n",
            "\n",
            "    accuracy                           0.97        38\n",
            "   macro avg       0.96      0.98      0.97        38\n",
            "weighted avg       0.98      0.97      0.97        38\n",
            "\n"
          ]
        }
      ]
    }
  ]
}