{
 "cells": [
  {
   "cell_type": "markdown",
   "metadata": {},
   "source": [
    "Instructions\n",
    "Faça o webscrapping do site:\n",
    "https://pokemondb.net/pokedex/national\n",
    "usando beaultifulsoup. Guarde as informações de todas as gerações de pokemon, inclusive com o link das imagens em um dataframe pandas e depois exporte como\n",
    "CSV."
   ]
  },
  {
   "cell_type": "markdown",
   "metadata": {},
   "source": [
    ". importing libraries"
   ]
  },
  {
   "cell_type": "code",
   "execution_count": 1,
   "metadata": {},
   "outputs": [],
   "source": [
    "import os\n",
    "import requests\n",
    "from bs4 import BeautifulSoup\n",
    "import pandas as pd\n",
    "from tqdm import tqdm\n",
    "import base64\n",
    "from IPython.display import display, Image"
   ]
  },
  {
   "cell_type": "markdown",
   "metadata": {},
   "source": [
    "2. Dowloading da url"
   ]
  },
  {
   "cell_type": "code",
   "execution_count": 2,
   "metadata": {},
   "outputs": [],
   "source": [
    "# URL do site\n",
    "url = 'https://pokemondb.net/pokedex/national'\n"
   ]
  },
  {
   "cell_type": "markdown",
   "metadata": {},
   "source": [
    "3.Faz uma requisição HTTP para obter o conteúdo da página:\n"
   ]
  },
  {
   "cell_type": "markdown",
   "metadata": {},
   "source": [
    "3. O código abaixo faz o seguinte:\n",
    "\n",
    "Faz uma requisição HTTP para obter o conteúdo da página.\n",
    "\n",
    "Usa BeautifulSoup para analisar o HTML da página.\n",
    "\n",
    "Encontra a tabela com o id 'pokedex' e, se encontrada, obtém todas as linhas (<tr>) dentro do corpo da tabela (<tbody>).\n",
    "\n",
    "Se a tabela não for encontrada, define pokemon_rows como uma lista vazia."
   ]
  },
  {
   "cell_type": "code",
   "execution_count": 3,
   "metadata": {},
   "outputs": [],
   "source": [
    "# Faz uma requisição HTTP para obter o conteúdo da página.\n",
    "response = requests.get(url)\n",
    "soup = BeautifulSoup(response.content, 'html.parser')\n"
   ]
  },
  {
   "cell_type": "markdown",
   "metadata": {},
   "source": [
    "4. Este código faz o seguinte:\n",
    "\n",
    "Faz uma requisição HTTP para obter o conteúdo da página.\n",
    "\n",
    "Usa BeautifulSoup para analisar o HTML da página.\n",
    "\n",
    "Encontra a tabela com o id 'pokedex' e, se encontrada, obtém todas as linhas \n",
    "(<tr>) dentro do corpo da tabela (<tbody>).\n",
    "\n",
    "Se a tabela não for encontrada, define pokemon_rows como uma lista vazia."
   ]
  },
  {
   "cell_type": "code",
   "execution_count": 4,
   "metadata": {},
   "outputs": [],
   "source": [
    "# Faz uma requisição HTTP para obter o conteúdo da página.\n",
    "response = requests.get(url)\n",
    "soup = BeautifulSoup(response.content, 'html.parser')\n",
    "\n",
    "# Usa BeautifulSoup para analisar o HTML da página.\n",
    "# Encontra a tabela com o id 'pokedex' e, se encontrada, obtém todas as linhas (tr) dentro do corpo da tabela (tbody).\n",
    "# Se a tabela não for encontrada, define pokemon_rows como uma lista vazia.\n",
    "table = soup.find('table', {'id': 'pokedex'})\n",
    "if table:\n",
    "    pokemon_rows = table.find('tbody').find_all(\"tr\")\n",
    "else:\n",
    "    pokemon_rows = []"
   ]
  },
  {
   "cell_type": "markdown",
   "metadata": {},
   "source": [
    "5.  verify the content of pokemon_rows"
   ]
  },
  {
   "cell_type": "code",
   "execution_count": 5,
   "metadata": {},
   "outputs": [
    {
     "name": "stdout",
     "output_type": "stream",
     "text": [
      "[]\n"
     ]
    }
   ],
   "source": [
    "# pokemon_rows is already defined in cell 10, no need to redefine it\n",
    "print(pokemon_rows)  # To verify the content of pokemon_rows"
   ]
  },
  {
   "cell_type": "markdown",
   "metadata": {},
   "source": [
    "6. Listas para armazenar os dados:\n"
   ]
  },
  {
   "cell_type": "code",
   "execution_count": 6,
   "metadata": {},
   "outputs": [],
   "source": [
    "generations = []\n",
    "names = []\n",
    "list_types = []\n",
    "hps = []\n",
    "attacks = []\n",
    "defenses = []\n",
    "sp_Atks = []\n",
    "sp_Defs = []\n",
    "speeds = []\n",
    "full_powers = []\n",
    "images = []"
   ]
  },
  {
   "cell_type": "markdown",
   "metadata": {},
   "source": [
    "7. Criando a pasta para salvar as imagens:"
   ]
  },
  {
   "cell_type": "code",
   "execution_count": 7,
   "metadata": {},
   "outputs": [],
   "source": [
    "if not os.path.exists('images'):\n",
    "    os.makedirs('images')"
   ]
  },
  {
   "cell_type": "markdown",
   "metadata": {},
   "source": [
    "8. Extraindo as informações de cada Pokémon, incluindo geração, nome, tipos, HP, ataque, defesa, ataque especial, defesa especial, velocidade, total de poder e imagem:\n"
   ]
  },
  {
   "cell_type": "code",
   "execution_count": 8,
   "metadata": {},
   "outputs": [
    {
     "name": "stderr",
     "output_type": "stream",
     "text": [
      "0it [00:00, ?it/s]\n"
     ]
    }
   ],
   "source": [
    "for pokemon in tqdm(pokemon_rows):\n",
    "    if not pokemon.find(\"small\") is None:\n",
    "        generations.append(pokemon.find(\"small\", class_='text-muted').text.strip())\n",
    "    else:\n",
    "        generations.append('')\n",
    "\n",
    "    name = pokemon.find('a', class_='ent-name').text\n",
    "    names.append(name)\n",
    "\n",
    "    aux = pokemon.find_all(\"a\", class_='itype')\n",
    "    qtd_power = len(aux)\n",
    "    types = ''\n",
    "    for power in range(qtd_power):\n",
    "        types += aux[power].text\n",
    "        if power < qtd_power - 1 and qtd_power > 1:\n",
    "            types += ' e '\n",
    "    list_types.append(types)\n",
    "\n",
    "    full_power = int(pokemon.find(\"td\", class_='cell-num cell-total').text)\n",
    "    full_powers.append(full_power)\n",
    "\n",
    " \n",
    "    image_url = pokemon.find(\"img\", class_='img-fixed icon-pkmn')[\"src\"]\n",
    "\n",
    "     # Verificação do URL da imagem\n",
    "    print(f\"Baixando imagem de: {image_url}\")\n",
    "\n",
    "    # Salva as imagens localmente na pasta images.\n",
    "    image_response = requests.get(image_url)\n",
    "    image_path = os.path.join('images', f'{name}.png')\n",
    "    with open(image_path, 'wb') as f:\n",
    "        f.write(image_response.content)\n",
    "\n",
    "    # Codifica a imagem em base64\n",
    "    with open(image_path, 'rb') as image_file:\n",
    "        encoded_image = base64.b64encode(image_file.read()).decode('utf-8')\n",
    "    images.append(encoded_image)\n",
    "\n",
    "    skill = pokemon.find_all(\"td\", class_='cell-num')[2:]\n",
    "    hps.append(int(skill[0].text))\n",
    "    attacks.append(int(skill[1].text))\n",
    "    defenses.append(int(skill[2].text))\n",
    "    sp_Atks.append(int(skill[3].text))\n",
    "    sp_Defs.append(int(skill[4].text))\n",
    "    speeds.append(int(skill[5].text))"
   ]
  },
  {
   "cell_type": "markdown",
   "metadata": {},
   "source": [
    "9. Armazena as informações em listas:"
   ]
  },
  {
   "cell_type": "code",
   "execution_count": 9,
   "metadata": {},
   "outputs": [],
   "source": [
    "df = pd.DataFrame({\n",
    "    'Generation': generations,\n",
    "    'Name': names,\n",
    "    'Type': list_types,\n",
    "    'HP': hps,\n",
    "    'Attack': attacks,\n",
    "    'Defense': defenses,\n",
    "    'Sp. Atk': sp_Atks,\n",
    "    'Sp. Def': sp_Defs,\n",
    "    'Speed': speeds,\n",
    "    'Total Power': full_powers,\n",
    "    'Image': images\n",
    "})"
   ]
  },
  {
   "cell_type": "markdown",
   "metadata": {},
   "source": [
    "9. Cria um DataFrame do pandas com as informações:"
   ]
  },
  {
   "cell_type": "code",
   "execution_count": 10,
   "metadata": {},
   "outputs": [],
   "source": [
    "df = pd.DataFrame({\n",
    "    'Generation': generations,\n",
    "    'Name': names,\n",
    "    'Type': list_types,\n",
    "    'HP': hps,\n",
    "    'Attack': attacks,\n",
    "    'Defense': defenses,\n",
    "    'Sp. Atk': sp_Atks,\n",
    "    'Sp. Def': sp_Defs,\n",
    "    'Speed': speeds,\n",
    "    'Total Power': full_powers,\n",
    "    'Image': images\n",
    "})"
   ]
  },
  {
   "cell_type": "markdown",
   "metadata": {},
   "source": [
    "10. Exporta o DataFrame para um arquivo CSV chamado pokemon_data.csv:"
   ]
  },
  {
   "cell_type": "code",
   "execution_count": 11,
   "metadata": {},
   "outputs": [
    {
     "name": "stdout",
     "output_type": "stream",
     "text": [
      "Dados exportados para pokemon_data.csv e imagens salvas na pasta images\n"
     ]
    }
   ],
   "source": [
    "# Exporta o DataFrame para um arquivo CSV chamado pokemon_data.csv.\n",
    "df.to_csv('pokemon_data.csv', index=False)\n",
    "\n",
    "print('Dados exportados para pokemon_data.csv e imagens salvas na pasta images')"
   ]
  },
  {
   "cell_type": "markdown",
   "metadata": {},
   "source": [
    "11. Exibir as imagens no notebook:"
   ]
  },
  {
   "cell_type": "code",
   "execution_count": 12,
   "metadata": {},
   "outputs": [],
   "source": [
    "for image_path in images:\n",
    "    display(Image(filename=image_path))"
   ]
  }
 ],
 "metadata": {
  "kernelspec": {
   "display_name": "myenv",
   "language": "python",
   "name": "python3"
  },
  "language_info": {
   "codemirror_mode": {
    "name": "ipython",
    "version": 3
   },
   "file_extension": ".py",
   "mimetype": "text/x-python",
   "name": "python",
   "nbconvert_exporter": "python",
   "pygments_lexer": "ipython3",
   "version": "3.12.6"
  }
 },
 "nbformat": 4,
 "nbformat_minor": 2
}
