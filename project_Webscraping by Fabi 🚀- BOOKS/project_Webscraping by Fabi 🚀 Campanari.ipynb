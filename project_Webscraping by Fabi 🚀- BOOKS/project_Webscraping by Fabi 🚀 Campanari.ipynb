{
  "cells": [
    {
      "cell_type": "markdown",
      "metadata": {},
      "source": [
        "# Tarefa WebScrapping - Instructions\n",
        "# Preencha as células do caderno com o que se pede."
      ]
    },
    {
      "cell_type": "markdown",
      "metadata": {
        "id": "KGp1CfMC5HgZ"
      },
      "source": [
        "## Tutorial Expandido de Web Scraping com BeautifulSoup\n",
        "*Professor Dr. Rooney R. A. Coelho*\n",
        "\n",
        "*Aluna Fabiana 🚀 Campanari*\n",
        "\n",
        "### Introdução\n",
        "Neste tutorial, vamos aprofundar nossas habilidades em web scraping, utilizando as bibliotecas Python `requests`, `BeautifulSoup` e `pandas` para extrair dados de um site de livros e armazená-los em um DataFrame do Pandas para análise posterior.\n",
        "\n",
        "### Código Completo com Explicações"
      ]
    },
    {
      "cell_type": "markdown",
      "metadata": {
        "id": "BuLhybql5jp8"
      },
      "source": [
        "### Pré-requisito\n",
        "\n",
        "Antes de começar, instale as bibliotecas necessárias. Se ainda não tiver, execute:"
      ]
    },
    {
      "cell_type": "code",
      "execution_count": 62,
      "metadata": {
        "id": "wyB6oPv15pjU"
      },
      "outputs": [
        {
          "name": "stdout",
          "output_type": "stream",
          "text": [
            "Requirement already satisfied: requests in /Users/fabicampanari/myenv/lib/python3.12/site-packages (2.32.3)\n",
            "Requirement already satisfied: beautifulsoup4 in /Users/fabicampanari/myenv/lib/python3.12/site-packages (4.12.3)\n",
            "Requirement already satisfied: pandas in /Users/fabicampanari/myenv/lib/python3.12/site-packages (2.2.2)\n",
            "Requirement already satisfied: charset-normalizer<4,>=2 in /Users/fabicampanari/myenv/lib/python3.12/site-packages (from requests) (3.3.2)\n",
            "Requirement already satisfied: idna<4,>=2.5 in /Users/fabicampanari/myenv/lib/python3.12/site-packages (from requests) (3.8)\n",
            "Requirement already satisfied: urllib3<3,>=1.21.1 in /Users/fabicampanari/myenv/lib/python3.12/site-packages (from requests) (2.2.2)\n",
            "Requirement already satisfied: certifi>=2017.4.17 in /Users/fabicampanari/myenv/lib/python3.12/site-packages (from requests) (2024.8.30)\n",
            "Requirement already satisfied: soupsieve>1.2 in /Users/fabicampanari/myenv/lib/python3.12/site-packages (from beautifulsoup4) (2.6)\n",
            "Requirement already satisfied: numpy>=1.26.0 in /Users/fabicampanari/myenv/lib/python3.12/site-packages (from pandas) (1.26.4)\n",
            "Requirement already satisfied: python-dateutil>=2.8.2 in /Users/fabicampanari/myenv/lib/python3.12/site-packages (from pandas) (2.9.0.post0)\n",
            "Requirement already satisfied: pytz>=2020.1 in /Users/fabicampanari/myenv/lib/python3.12/site-packages (from pandas) (2024.1)\n",
            "Requirement already satisfied: tzdata>=2022.7 in /Users/fabicampanari/myenv/lib/python3.12/site-packages (from pandas) (2024.1)\n",
            "Requirement already satisfied: six>=1.5 in /Users/fabicampanari/myenv/lib/python3.12/site-packages (from python-dateutil>=2.8.2->pandas) (1.16.0)\n",
            "Requirement already satisfied: tqdm in /Users/fabicampanari/myenv/lib/python3.12/site-packages (4.66.5)\n"
          ]
        }
      ],
      "source": [
        "!pip install requests beautifulsoup4 pandas\n",
        "!pip install tqdm"
      ]
    },
    {
      "cell_type": "markdown",
      "metadata": {
        "id": "VHU_iPZV5s7j"
      },
      "source": [
        "## 1. Importando Bibliotecas\n",
        "Primeiro, importe as bibliotecas necessárias. Execute esta célula para que todas as funções estejam disponíveis ao longo do código."
      ]
    },
    {
      "cell_type": "code",
      "execution_count": 63,
      "metadata": {
        "id": "RCmHabyk5rHs"
      },
      "outputs": [],
      "source": [
        "import requests\n",
        "from bs4 import BeautifulSoup\n",
        "import pandas as pd\n",
        "import tqdm"
      ]
    },
    {
      "cell_type": "markdown",
      "metadata": {
        "id": "YxEfb_ks5yDM"
      },
      "source": [
        "### 2. Definindo a URL e Fazendo a Requisição\n",
        "Aqui, definimos a URL do site e fazemos uma requisição HTTP para obter o conteúdo HTML da página. Depois, utilizamos o BeautifulSoup para interpretar o HTML."
      ]
    },
    {
      "cell_type": "code",
      "execution_count": 64,
      "metadata": {
        "id": "vvBgZrFi53KV"
      },
      "outputs": [],
      "source": [
        "# Definindo a URL do site\n",
        "url = 'http://books.toscrape.com/'\n",
        "\n",
        "# Fazendo a requisição HTTP e analisando o HTML\n",
        "response = requests.get(url)\n",
        "soup = BeautifulSoup(response.text, 'html.parser')"
      ]
    },
    {
      "cell_type": "markdown",
      "metadata": {
        "id": "0eBwzL8954yt"
      },
      "source": [
        "> Explicação: A função requests.get() acessa o site e o BeautifulSoup ajuda a transformar o conteúdo em uma estrutura fácil de navegar."
      ]
    },
    {
      "cell_type": "markdown",
      "metadata": {
        "id": "Ivq87Gc157a9"
      },
      "source": [
        "# 3. Encontrando Todos os Livros na Página\n",
        "\n",
        "Esta célula extrai a lista de livros presentes na página, usando a estrutura HTML para encontrar os artigos que contêm as informações sobre os livros."
      ]
    },
    {
      "cell_type": "code",
      "execution_count": 65,
      "metadata": {
        "id": "IK_457ly6HCI"
      },
      "outputs": [
        {
          "name": "stderr",
          "output_type": "stream",
          "text": [
            "100%|██████████| 50/50 [00:32<00:00,  1.54it/s]\n"
          ]
        }
      ],
      "source": [
        "books = []\n",
        "\n",
        "# Encontrando todos os livros na página\n",
        "for pag in tqdm.tqdm(range(1, 51)):\n",
        "    response = requests.get(f\"http://books.toscrape.com/catalogue/page-{pag}.html\")\n",
        "    soup = BeautifulSoup(response.text, \"html.parser\").find_all(class_ = \"product_pod\")\n",
        "    for book in soup: \n",
        "        books.append(book)"
      ]
    },
    {
      "cell_type": "markdown",
      "metadata": {
        "id": "Ak--VXDi6KGR"
      },
      "source": [
        "> Explicação: Cada livro está contido em uma tag <article> com a classe product_pod. O método find_all() retorna uma lista de todos esses elementos."
      ]
    },
    {
      "cell_type": "markdown",
      "metadata": {
        "id": "2owmbXvf6MpR"
      },
      "source": [
        "### 4. Extraindo Informações de Cada Livro\n",
        "\n",
        "Nesta etapa, vamos iterar sobre cada livro encontrado e extrair o título, o preço e a disponibilidade. Armazene essas informações em uma lista chamada data."
      ]
    },
    {
      "cell_type": "code",
      "execution_count": 66,
      "metadata": {
        "id": "bUCUpaLj6SMy"
      },
      "outputs": [
        {
          "name": "stderr",
          "output_type": "stream",
          "text": [
            "100%|██████████| 1000/1000 [00:00<00:00, 7410.21it/s]\n"
          ]
        }
      ],
      "source": [
        "# Extraindo informações de cada livro\n",
        "titles = []\n",
        "prices = []\n",
        "stocks = []\n",
        "images = []\n",
        "categories = []\n",
        "\n",
        "for book in tqdm.tqdm(books):\n",
        "    titles.append(book.find(\"h3\").find(\"a\")[\"title\"])\n",
        "    prices.append(float(book.find(\"div\", class_=\"product_price\").find(\"p\").get_text().replace(\"£\", \"\").replace(\"Â\", \"\")))\n",
        "    stocks.append(book.find(\"p\", class_=\"instock availability\").get_text(strip=True))\n",
        "    images.append(book.find(\"img\")[\"src\"])\n",
        "    categories.append(book.find(\"p\", class_=\"star-rating\")[\"class\"][1])"
      ]
    },
    {
      "cell_type": "markdown",
      "metadata": {
        "id": "Rj8IZ-cF6VXT"
      },
      "source": [
        "> Explicação: Usamos .find() para localizar elementos específicos dentro do book. O .text.strip() remove espaços em branco extras. A lista data é então preenchida com dicionários contendo as informações de cada livro."
      ]
    },
    {
      "cell_type": "markdown",
      "metadata": {
        "id": "dgHrjfVz6aqL"
      },
      "source": [
        "### 5. Criando um DataFrame e Exibindo os Dados\n",
        "Agora que temos todos os dados em uma lista, vamos criar um DataFrame do Pandas para organizar e visualizar os dados."
      ]
    },
    {
      "cell_type": "code",
      "execution_count": 67,
      "metadata": {},
      "outputs": [],
      "source": [
        "# Criando o DataFrame com todas as variáveis\n",
        "library = pd.DataFrame({\n",
        "    \"title\": titles,\n",
        "    \"price\": prices,\n",
        "    \"stock\": stocks,\n",
        "    \"image\": images,\n",
        "    \"category\": categories\n",
        "})\n"
      ]
    },
    {
      "cell_type": "markdown",
      "metadata": {
        "id": "rEcO1m4r6fPN"
      },
      "source": [
        "> Explicação: O DataFrame df nos permite visualizar e manipular os dados de forma estruturada. A função head() exibe as primeiras cinco linhas do DataFrame."
      ]
    },
    {
      "cell_type": "markdown",
      "metadata": {
        "id": "vkHAd_LS6kiV"
      },
      "source": [
        "Para finalizar, vamos salvar o DataFrame em um arquivo CSV chamado livros.csv, que conterá todos os dados extraídos."
      ]
    },
    {
      "cell_type": "code",
      "execution_count": 68,
      "metadata": {
        "id": "8Il42k_r6Iu4"
      },
      "outputs": [],
      "source": [
        "library.to_csv(\"livros.csv\", index = False)"
      ]
    },
    {
      "cell_type": "code",
      "execution_count": 69,
      "metadata": {},
      "outputs": [],
      "source": [
        "# Salvando o DataFrame em um arquivo CSV na pasta de destino que voce esc olher\n",
        "library.to_csv(\"/Users/fabicampanari/Desktop/WebScrapping-BeautifulSoaup/livros.csv\", index=False)"
      ]
    },
    {
      "cell_type": "markdown",
      "metadata": {
        "id": "9nWGG5K36m3e"
      },
      "source": [
        "> Explicação: A função to_csv() do Pandas salva o DataFrame como um arquivo CSV. Definimos index=False para não incluir o índice do DataFrame no arquivo final."
      ]
    },
    {
      "cell_type": "markdown",
      "metadata": {},
      "source": []
    },
    {
      "cell_type": "markdown",
      "metadata": {
        "id": "KxiSL9hf5Hgf"
      },
      "source": [
        "### Explicação Detalhada\n",
        "1. **Importar bibliotecas:** Importamos as bibliotecas necessárias para fazer requisições HTTP (`requests`), analisar HTML (`BeautifulSoup`) e manipular dados (`pandas`).\n",
        "2. **Definir a URL:** Definimos a URL do site que queremos raspar.\n",
        "3. **Fazer a requisição:** Realizamos uma requisição HTTP para a URL e analisamos o conteúdo HTML da página utilizando o BeautifulSoup.\n",
        "4. **Encontrar os livros:** Localizamos todos os elementos HTML que representam os livros na página, utilizando o método `find_all`.\n",
        "5. **Extrair informações:** Iteramos sobre cada elemento de livro e extraímos o título, preço e disponibilidade, utilizando o método `find` para localizar elementos específicos.\n",
        "6. **Criar DataFrame:** Criamos um DataFrame do Pandas para armazenar os dados extraídos em uma estrutura tabular.\n",
        "7. **Exibir e salvar:** Exibimos as primeiras linhas do DataFrame para verificar os dados e salvamos o DataFrame em um arquivo CSV para análise posterior.\n",
        "\n",
        "### Expansões e Personalizações\n",
        "* **Extrair mais informações:** Você pode extrair outras informações, como a imagem do livro, a categoria, o autor, etc., localizando os elementos HTML correspondentes.\n",
        "* **Limpar os dados:** Limpe os dados extraídos, removendo caracteres especiais, formatando valores numéricos e tratando valores ausentes.\n",
        "* **Manipular o DataFrame:** Utilize as funcionalidades do Pandas para manipular o DataFrame, como filtrar, ordenar, agrupar e realizar cálculos.\n",
        "* **Visualizar os dados:** Crie gráficos e visualizações para explorar os dados de forma mais intuitiva, utilizando bibliotecas como Matplotlib ou Seaborn.\n",
        "* **Paginação:** Se o site tiver várias páginas de resultados, implemente a paginação para extrair dados de todas as páginas.\n",
        "* **Lidar com erros:** Utilize blocos `try-except` para lidar com possíveis erros durante o processo de scraping, como páginas não encontradas ou elementos HTML ausentes.\n",
        "\n",
        "### Próximos Passos\n",
        "* **Explorar outros sites:** Pratique com outros sites para aprimorar suas habilidades em web scraping.\n",
        "* **Aprender técnicas avançadas:** Explore técnicas mais avançadas, como XPath, CSS Selectors e bibliotecas como Scrapy.\n",
        "* **Construir projetos reais:** Utilize o web scraping para coletar dados para seus próprios projetos, como análise de sentimentos, monitoramento de preços, etc.\n",
        "\n",
        "**Lembre-se:** É importante respeitar os termos de serviço dos sites que você está raspando e evitar sobrecarregar os servidores.\n",
        "\n",
        "Com este tutorial expandido, você possui uma base sólida para iniciar seus projetos de web scraping e explorar o vasto mundo de dados disponíveis na web."
      ]
    }
  ],
  "metadata": {
    "colab": {
      "provenance": []
    },
    "kernelspec": {
      "display_name": "myenv",
      "language": "python",
      "name": "python3"
    },
    "language_info": {
      "codemirror_mode": {
        "name": "ipython",
        "version": 3
      },
      "file_extension": ".py",
      "mimetype": "text/x-python",
      "name": "python",
      "nbconvert_exporter": "python",
      "pygments_lexer": "ipython3",
      "version": "3.12.6"
    }
  },
  "nbformat": 4,
  "nbformat_minor": 0
}
